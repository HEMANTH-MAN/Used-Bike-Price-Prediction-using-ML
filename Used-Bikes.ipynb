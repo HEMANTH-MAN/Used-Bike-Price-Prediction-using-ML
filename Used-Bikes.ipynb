{
  "cells": [
    {
      "cell_type": "code",
      "execution_count": null,
      "metadata": {
        "id": "K7kEwP1M9kFh",
        "colab": {
          "base_uri": "https://localhost:8080/"
        },
        "outputId": "16db36ac-f591-4bdb-ce6d-2a6bbd94418c"
      },
      "outputs": [
        {
          "output_type": "stream",
          "name": "stdout",
          "text": [
            "Mounted at /content/gdrive\n"
          ]
        }
      ],
      "source": [
        "from google.colab import drive\n",
        "drive.mount('/content/gdrive')"
      ]
    },
    {
      "cell_type": "markdown",
      "metadata": {
        "id": "bnpEa0ngLm3p"
      },
      "source": [
        "# Loading the data"
      ]
    },
    {
      "cell_type": "code",
      "execution_count": null,
      "metadata": {
        "colab": {
          "base_uri": "https://localhost:8080/"
        },
        "id": "KoUxCs939sRI",
        "outputId": "fa37670d-b06b-4566-a696-3adc153933d3"
      },
      "outputs": [
        {
          "output_type": "stream",
          "name": "stdout",
          "text": [
            "                                  bike_name     price       city  kms_driven  \\\n",
            "0        TVS Star City Plus Dual Tone 110cc   35000.0  Ahmedabad     17654.0   \n",
            "1               Royal Enfield Classic 350cc  119900.0      Delhi     11000.0   \n",
            "2                      Triumph Daytona 675R  600000.0      Delhi       110.0   \n",
            "3                      TVS Apache RTR 180cc   65000.0  Bangalore     16329.0   \n",
            "4      Yamaha FZ S V 2.0 150cc-Ltd. Edition   80000.0  Bangalore     10000.0   \n",
            "...                                     ...       ...        ...         ...   \n",
            "32643                Hero Passion Pro 100cc   39000.0      Delhi     22000.0   \n",
            "32644                  TVS Apache RTR 180cc   30000.0     Karnal      6639.0   \n",
            "32645              Bajaj Avenger Street 220   60000.0      Delhi     20373.0   \n",
            "32646             Hero Super Splendor 125cc   15600.0     Jaipur     84186.0   \n",
            "32647                    Bajaj Pulsar 150cc   22000.0       Pune     60857.0   \n",
            "\n",
            "             owner   age  power          brand  \n",
            "0      First Owner   3.0  110.0            TVS  \n",
            "1      First Owner   4.0  350.0  Royal Enfield  \n",
            "2      First Owner   8.0  675.0        Triumph  \n",
            "3      First Owner   4.0  180.0            TVS  \n",
            "4      First Owner   3.0  150.0         Yamaha  \n",
            "...            ...   ...    ...            ...  \n",
            "32643  First Owner   4.0  100.0           Hero  \n",
            "32644  First Owner   9.0  180.0            TVS  \n",
            "32645  First Owner   6.0  220.0          Bajaj  \n",
            "32646  First Owner  16.0  125.0           Hero  \n",
            "32647  First Owner  13.0  150.0          Bajaj  \n",
            "\n",
            "[32648 rows x 8 columns]\n"
          ]
        }
      ],
      "source": [
        "import numpy as np\n",
        "import pandas as pd\n",
        "import matplotlib.pyplot as plt\n",
        "data= pd.read_csv('/content/gdrive/MyDrive/Used_Bikes.csv')\n",
        "print(data)"
      ]
    },
    {
      "cell_type": "markdown",
      "metadata": {
        "id": "thTVkOewMAxZ"
      },
      "source": [
        "# Checking for the Null values"
      ]
    },
    {
      "cell_type": "code",
      "execution_count": null,
      "metadata": {
        "colab": {
          "base_uri": "https://localhost:8080/"
        },
        "id": "bINQqEiJQSqW",
        "outputId": "1b263010-8ecc-48b3-e57e-c82aa9c6896d"
      },
      "outputs": [
        {
          "output_type": "execute_result",
          "data": {
            "text/plain": [
              "bike_name     0\n",
              "price         0\n",
              "city          0\n",
              "kms_driven    0\n",
              "owner         0\n",
              "age           0\n",
              "power         0\n",
              "brand         0\n",
              "dtype: int64"
            ]
          },
          "metadata": {},
          "execution_count": 3
        }
      ],
      "source": [
        "data.isnull().sum()"
      ]
    },
    {
      "cell_type": "markdown",
      "metadata": {
        "id": "_I2cn8e9MIqr"
      },
      "source": [
        "# Organizing the Variables"
      ]
    },
    {
      "cell_type": "code",
      "execution_count": null,
      "metadata": {
        "colab": {
          "base_uri": "https://localhost:8080/"
        },
        "id": "Jyx6SiuI9xva",
        "outputId": "29430f08-c5cf-4235-eb80-5cc0424f95e5"
      },
      "outputs": [
        {
          "output_type": "stream",
          "name": "stdout",
          "text": [
            "               brand  kms_driven   age  power        owner     price\n",
            "0                TVS     17654.0   3.0  110.0  First Owner   35000.0\n",
            "1      Royal Enfield     11000.0   4.0  350.0  First Owner  119900.0\n",
            "2            Triumph       110.0   8.0  675.0  First Owner  600000.0\n",
            "3                TVS     16329.0   4.0  180.0  First Owner   65000.0\n",
            "4             Yamaha     10000.0   3.0  150.0  First Owner   80000.0\n",
            "...              ...         ...   ...    ...          ...       ...\n",
            "32643           Hero     22000.0   4.0  100.0  First Owner   39000.0\n",
            "32644            TVS      6639.0   9.0  180.0  First Owner   30000.0\n",
            "32645          Bajaj     20373.0   6.0  220.0  First Owner   60000.0\n",
            "32646           Hero     84186.0  16.0  125.0  First Owner   15600.0\n",
            "32647          Bajaj     60857.0  13.0  150.0  First Owner   22000.0\n",
            "\n",
            "[32648 rows x 6 columns]\n"
          ]
        }
      ],
      "source": [
        "df = data[['brand','kms_driven','age','power','owner','price']]\n",
        "print(df)"
      ]
    },
    {
      "cell_type": "markdown",
      "metadata": {
        "id": "svPRS1J1MSUp"
      },
      "source": [
        "# Changing the Strings to Numerical Values"
      ]
    },
    {
      "cell_type": "code",
      "execution_count": null,
      "metadata": {
        "colab": {
          "base_uri": "https://localhost:8080/"
        },
        "id": "9J87dDDtOuyP",
        "outputId": "176a86e1-7ee3-49e7-d78d-8b5faa04fcdb"
      },
      "outputs": [
        {
          "output_type": "stream",
          "name": "stderr",
          "text": [
            "<ipython-input-5-a62a35512117>:4: SettingWithCopyWarning: \n",
            "A value is trying to be set on a copy of a slice from a DataFrame.\n",
            "Try using .loc[row_indexer,col_indexer] = value instead\n",
            "\n",
            "See the caveats in the documentation: https://pandas.pydata.org/pandas-docs/stable/user_guide/indexing.html#returning-a-view-versus-a-copy\n",
            "  df['owner_new']=le.fit_transform(data['owner'])\n",
            "<ipython-input-5-a62a35512117>:5: SettingWithCopyWarning: \n",
            "A value is trying to be set on a copy of a slice from a DataFrame\n",
            "\n",
            "See the caveats in the documentation: https://pandas.pydata.org/pandas-docs/stable/user_guide/indexing.html#returning-a-view-versus-a-copy\n",
            "  df.drop(['owner'],axis=1,inplace=True)\n"
          ]
        },
        {
          "output_type": "execute_result",
          "data": {
            "text/plain": [
              "Index(['brand', 'kms_driven', 'age', 'power', 'price', 'owner_new'], dtype='object')"
            ]
          },
          "metadata": {},
          "execution_count": 5
        }
      ],
      "source": [
        "from sklearn.preprocessing import LabelEncoder\n",
        "le=LabelEncoder()\n",
        "le.fit_transform(df['owner'])\n",
        "df['owner_new']=le.fit_transform(data['owner'])\n",
        "df.drop(['owner'],axis=1,inplace=True)\n",
        "df.columns"
      ]
    },
    {
      "cell_type": "code",
      "execution_count": null,
      "metadata": {
        "colab": {
          "base_uri": "https://localhost:8080/"
        },
        "id": "tItZ7Pp0NkQQ",
        "outputId": "b2196356-0c14-4b30-8266-f9e862ae228e"
      },
      "outputs": [
        {
          "output_type": "stream",
          "name": "stderr",
          "text": [
            "<ipython-input-6-75191925e8b5>:4: SettingWithCopyWarning: \n",
            "A value is trying to be set on a copy of a slice from a DataFrame.\n",
            "Try using .loc[row_indexer,col_indexer] = value instead\n",
            "\n",
            "See the caveats in the documentation: https://pandas.pydata.org/pandas-docs/stable/user_guide/indexing.html#returning-a-view-versus-a-copy\n",
            "  df['brand_new']=le.fit_transform(data['brand'])\n",
            "<ipython-input-6-75191925e8b5>:5: SettingWithCopyWarning: \n",
            "A value is trying to be set on a copy of a slice from a DataFrame\n",
            "\n",
            "See the caveats in the documentation: https://pandas.pydata.org/pandas-docs/stable/user_guide/indexing.html#returning-a-view-versus-a-copy\n",
            "  df.drop(['brand'],axis=1,inplace=True)\n"
          ]
        },
        {
          "output_type": "execute_result",
          "data": {
            "text/plain": [
              "Index(['kms_driven', 'age', 'power', 'price', 'owner_new', 'brand_new'], dtype='object')"
            ]
          },
          "metadata": {},
          "execution_count": 6
        }
      ],
      "source": [
        "from sklearn.preprocessing import LabelEncoder\n",
        "le=LabelEncoder()\n",
        "le.fit_transform(df['brand'])\n",
        "df['brand_new']=le.fit_transform(data['brand'])\n",
        "df.drop(['brand'],axis=1,inplace=True)\n",
        "df.columns"
      ]
    },
    {
      "cell_type": "code",
      "execution_count": null,
      "metadata": {
        "colab": {
          "base_uri": "https://localhost:8080/"
        },
        "id": "0WPCCh4TKTFS",
        "outputId": "48f4e7cc-5241-4130-fd77-b625f9e70de9"
      },
      "outputs": [
        {
          "output_type": "execute_result",
          "data": {
            "text/plain": [
              "kms_driven    0\n",
              "age           0\n",
              "power         0\n",
              "price         0\n",
              "owner_new     0\n",
              "brand_new     0\n",
              "dtype: int64"
            ]
          },
          "metadata": {},
          "execution_count": 7
        }
      ],
      "source": [
        "df.isnull().sum()"
      ]
    },
    {
      "cell_type": "markdown",
      "metadata": {
        "id": "hURMzTdbMZkf"
      },
      "source": [
        "# Dividing the Components based on the types of variables"
      ]
    },
    {
      "cell_type": "code",
      "execution_count": null,
      "metadata": {
        "colab": {
          "base_uri": "https://localhost:8080/"
        },
        "id": "R9yiD2vM-ACw",
        "outputId": "beb603f1-c9b3-4c3a-ace6-ec8b5d8a16fb"
      },
      "outputs": [
        {
          "output_type": "stream",
          "name": "stdout",
          "text": [
            "       brand_new  kms_driven   age  power  owner_new\n",
            "0             19     17654.0   3.0  110.0          0\n",
            "1             17     11000.0   4.0  350.0          0\n",
            "2             20       110.0   8.0  675.0          0\n",
            "3             19     16329.0   4.0  180.0          0\n",
            "4             21     10000.0   3.0  150.0          0\n",
            "...          ...         ...   ...    ...        ...\n",
            "32643          5     22000.0   4.0  100.0          0\n",
            "32644         19      6639.0   9.0  180.0          0\n",
            "32645          1     20373.0   6.0  220.0          0\n",
            "32646          5     84186.0  16.0  125.0          0\n",
            "32647          1     60857.0  13.0  150.0          0\n",
            "\n",
            "[32648 rows x 5 columns]\n",
            "          price\n",
            "0       35000.0\n",
            "1      119900.0\n",
            "2      600000.0\n",
            "3       65000.0\n",
            "4       80000.0\n",
            "...         ...\n",
            "32643   39000.0\n",
            "32644   30000.0\n",
            "32645   60000.0\n",
            "32646   15600.0\n",
            "32647   22000.0\n",
            "\n",
            "[32648 rows x 1 columns]\n"
          ]
        }
      ],
      "source": [
        "x=df[['brand_new','kms_driven','age','power','owner_new']]\n",
        "print(x)\n",
        "y=df.drop(columns=['brand_new','kms_driven','age','power','owner_new'])\n",
        "print(y)"
      ]
    },
    {
      "cell_type": "markdown",
      "metadata": {
        "id": "npcuoMA9MjKC"
      },
      "source": [
        "# Spliting the data"
      ]
    },
    {
      "cell_type": "code",
      "execution_count": null,
      "metadata": {
        "colab": {
          "base_uri": "https://localhost:8080/"
        },
        "id": "naTVha55GzrZ",
        "outputId": "6df7bc06-cb6f-444d-a3da-8586ff8383b2"
      },
      "outputs": [
        {
          "output_type": "stream",
          "name": "stdout",
          "text": [
            "       brand_new  kms_driven   age  power  owner_new\n",
            "21360          5     84186.0  16.0  125.0          0\n",
            "7200           1     25000.0  12.0  125.0          0\n",
            "3055          21      8800.0   3.0  250.0          0\n",
            "32251         21     27000.0   9.0  150.0          0\n",
            "31273          1     20245.0  11.0  220.0          2\n",
            "...          ...         ...   ...    ...        ...\n",
            "3046          17     48000.0   8.0  500.0          2\n",
            "26301          1     60857.0  13.0  150.0          0\n",
            "20463          5     35000.0  19.0  100.0          2\n",
            "18638          1     20245.0  11.0  220.0          2\n",
            "2915           1     25388.0  11.0  220.0          0\n",
            "\n",
            "[32582 rows x 5 columns]\n"
          ]
        }
      ],
      "source": [
        "from sklearn.model_selection import train_test_split\n",
        "x_train,x_test,y_train,y_test=train_test_split(x,y,test_size=0.002,random_state=5)\n",
        "print(x_train)"
      ]
    },
    {
      "cell_type": "markdown",
      "metadata": {
        "id": "yrWleW4pMlud"
      },
      "source": [
        "# Scaling the data"
      ]
    },
    {
      "cell_type": "code",
      "execution_count": null,
      "metadata": {
        "id": "_NIKbKdJHDBn"
      },
      "outputs": [],
      "source": [
        "from sklearn.preprocessing import StandardScaler\n",
        "sc=StandardScaler()\n",
        "x_train_std=sc.fit_transform(x_train)\n",
        "x_test_std=sc.transform(x_test)"
      ]
    },
    {
      "cell_type": "markdown",
      "metadata": {
        "id": "i_zyk6RuMoRe"
      },
      "source": [
        "# Model Selection"
      ]
    },
    {
      "cell_type": "code",
      "execution_count": null,
      "metadata": {
        "colab": {
          "base_uri": "https://localhost:8080/"
        },
        "id": "F8HvlrnmHC-R",
        "outputId": "873307c8-09cf-4fe2-fa4c-d8142b77dced"
      },
      "outputs": [
        {
          "output_type": "stream",
          "name": "stdout",
          "text": [
            "[ 23000.  25000.  50000.  23000.  35000.  25000.  86000.  39000.  22000.\n",
            "  20000.  32000.  11900.  35000.  15600.  70000.  23000.  80000.  70000.\n",
            "  39300.  20000.  10000.  48000. 196700.  95500.  70000.  95500.  35000.\n",
            "  32000.  41000.  25000. 123000.  15600.  80000.  23000.  11900.  55005.\n",
            "  10000. 115000.  75000.  46500.  50000.  12500.  55005.  50000.  35000.\n",
            " 196700.  15000.  43000. 450000.  25000.  80000.  80000.  87000.  15600.\n",
            "  41000.  14000.  32000.  25000.  23000.  35000.  43000. 105000.  41000.\n",
            "  10000. 105000.  35000.]\n"
          ]
        },
        {
          "output_type": "stream",
          "name": "stderr",
          "text": [
            "/usr/local/lib/python3.10/dist-packages/sklearn/neighbors/_classification.py:215: DataConversionWarning: A column-vector y was passed when a 1d array was expected. Please change the shape of y to (n_samples,), for example using ravel().\n",
            "  return self._fit(X, y)\n"
          ]
        }
      ],
      "source": [
        "from sklearn.neighbors import KNeighborsClassifier\n",
        "knn=KNeighborsClassifier(1,weights=\"distance\")\n",
        "knn.fit(x_train_std,y_train)\n",
        "z=knn.predict(x_test_std)\n",
        "print(z)"
      ]
    },
    {
      "cell_type": "markdown",
      "metadata": {
        "id": "VXwWvdXRMx64"
      },
      "source": [
        "# Evaluation Metrics"
      ]
    },
    {
      "cell_type": "code",
      "execution_count": null,
      "metadata": {
        "colab": {
          "base_uri": "https://localhost:8080/"
        },
        "id": "EtvfNPzrNm15",
        "outputId": "0a46420f-7885-4336-a5e0-4414b61dcedb"
      },
      "outputs": [
        {
          "output_type": "stream",
          "name": "stdout",
          "text": [
            "Accuracy : 93.93939393939394\n",
            "precision : 79.41176470588235\n",
            "recall_score : 78.4313725490196\n",
            "f1_score : 78.82352941176471\n"
          ]
        },
        {
          "output_type": "stream",
          "name": "stderr",
          "text": [
            "/usr/local/lib/python3.10/dist-packages/sklearn/metrics/_classification.py:1344: UndefinedMetricWarning: Precision is ill-defined and being set to 0.0 in labels with no predicted samples. Use `zero_division` parameter to control this behavior.\n",
            "  _warn_prf(average, modifier, msg_start, len(result))\n",
            "/usr/local/lib/python3.10/dist-packages/sklearn/metrics/_classification.py:1344: UndefinedMetricWarning: Recall is ill-defined and being set to 0.0 in labels with no true samples. Use `zero_division` parameter to control this behavior.\n",
            "  _warn_prf(average, modifier, msg_start, len(result))\n"
          ]
        }
      ],
      "source": [
        "from sklearn import metrics\n",
        "from sklearn.metrics import accuracy_score\n",
        "from sklearn.metrics import precision_score\n",
        "from sklearn.metrics import recall_score\n",
        "from sklearn.metrics import f1_score\n",
        "\n",
        "print('Accuracy : {}'.format(accuracy_score(y_test,z)*100))\n",
        "print('precision : {}'.format(precision_score(y_test,z,average='macro')*100))\n",
        "print('recall_score : {}'.format(recall_score(y_test,z,average='macro')*100))\n",
        "print('f1_score : {}'.format(f1_score(y_test,z,average='macro')*100))"
      ]
    },
    {
      "cell_type": "markdown",
      "metadata": {
        "id": "OVQWj-UYecTM"
      },
      "source": [
        "Using Linear Regression model"
      ]
    },
    {
      "cell_type": "code",
      "execution_count": null,
      "metadata": {
        "colab": {
          "base_uri": "https://localhost:8080/"
        },
        "id": "-K2P_JxcHoIT",
        "outputId": "4a72e14f-01dd-48f0-acec-25a805fc1db9"
      },
      "outputs": [
        {
          "output_type": "stream",
          "name": "stdout",
          "text": [
            "[[ 15302.75207179]\n",
            " [ 11260.54421905]\n",
            " [ 78243.64714538]\n",
            " [ 15302.75207179]\n",
            " [ 12716.91509763]\n",
            " [ 34829.65862761]\n",
            " [ 59801.11872766]\n",
            " [ 16188.27941533]\n",
            " [ 20610.8941588 ]\n",
            " [ 18072.44044071]\n",
            " [ 15407.39094451]\n",
            " [ 23704.81309612]\n",
            " [ 12716.91509763]\n",
            " [ -6570.23578414]\n",
            " [121645.92127998]\n",
            " [ 15302.75207179]\n",
            " [ 87417.3384458 ]\n",
            " [ 63336.48777254]\n",
            " [ 39378.48356319]\n",
            " [  6277.22371102]\n",
            " [ 16133.26015444]\n",
            " [ 62011.49547751]\n",
            " [177509.29682199]\n",
            " [144113.21971149]\n",
            " [121645.92127998]\n",
            " [144113.21971149]\n",
            " [ 12716.91509763]\n",
            " [ 15407.39094451]\n",
            " [ 55319.56339319]\n",
            " [ 30342.86711583]\n",
            " [ 93979.40641384]\n",
            " [ -6570.23578414]\n",
            " [ 87417.3384458 ]\n",
            " [ 15302.75207179]\n",
            " [ 23704.81309612]\n",
            " [ 87555.52718861]\n",
            " [ 16133.26015444]\n",
            " [152790.2726725 ]\n",
            " [ 47474.19577506]\n",
            " [ 25713.18802976]\n",
            " [ 78243.64714538]\n",
            " [-15485.01401491]\n",
            " [ 87555.52718861]\n",
            " [ 78243.64714538]\n",
            " [ 12716.91509763]\n",
            " [177509.29682199]\n",
            " [-31192.34983741]\n",
            " [ 31352.34331512]\n",
            " [384675.86372224]\n",
            " [ 34829.65862761]\n",
            " [ 87417.3384458 ]\n",
            " [ 87417.3384458 ]\n",
            " [ 56642.37843475]\n",
            " [ -6570.23578414]\n",
            " [ 55319.56339319]\n",
            " [ -6960.30819596]\n",
            " [ 18389.48140377]\n",
            " [ 30342.86711583]\n",
            " [ 15302.75207179]\n",
            " [ 12716.91509763]\n",
            " [ 31352.34331512]\n",
            " [150394.91576249]\n",
            " [ 55319.56339319]\n",
            " [ 16133.26015444]\n",
            " [ 72478.4446139 ]\n",
            " [ 66746.96898997]]\n"
          ]
        }
      ],
      "source": [
        "from sklearn.linear_model import LinearRegression\n",
        "LR=LinearRegression()\n",
        "LR.fit(x_train,y_train)\n",
        "y_pred=LR.predict(x_test)\n",
        "print(y_pred)"
      ]
    },
    {
      "cell_type": "markdown",
      "metadata": {
        "id": "BZGgbQHpM3dd"
      },
      "source": [
        "# Data Visualizations"
      ]
    },
    {
      "cell_type": "code",
      "execution_count": null,
      "metadata": {
        "colab": {
          "base_uri": "https://localhost:8080/",
          "height": 448
        },
        "id": "xt0eeY6YfAJ7",
        "outputId": "ba941623-38cd-472d-a6a3-e573ff5621d3"
      },
      "outputs": [
        {
          "output_type": "stream",
          "name": "stderr",
          "text": [
            "WARNING:matplotlib.legend:No artists with labels found to put in legend.  Note that artists whose label start with an underscore are ignored when legend() is called with no argument.\n"
          ]
        },
        {
          "output_type": "display_data",
          "data": {
            "text/plain": [
              "<Figure size 640x480 with 1 Axes>"
            ],
            "image/png": "[encoded data removed]"
          },
          "metadata": {}
        }
      ],
      "source": [
        "plt.scatter(y_pred,z,alpha=1)\n",
        "plt.legend()\n",
        "plt.show()"
      ]
    },
    {
      "cell_type": "code",
      "execution_count": null,
      "metadata": {
        "colab": {
          "base_uri": "https://localhost:8080/"
        },
        "id": "SkZ7po1DILKF",
        "outputId": "e2abe662-ae6c-4685-c196-edfe3b4e851e"
      },
      "outputs": [
        {
          "output_type": "stream",
          "name": "stdout",
          "text": [
            "r2_score : 0.8476831709958359\n"
          ]
        }
      ],
      "source": [
        "from sklearn.metrics import r2_score\n",
        "print('r2_score : {}'.format(r2_score(y_test,y_pred,sample_weight=None,multioutput='uniform_average')))"
      ]
    },
    {
      "cell_type": "markdown",
      "metadata": {
        "id": "g3WxCl1het0g"
      },
      "source": [
        "Using Naive Bayes Classifier"
      ]
    },
    {
      "cell_type": "code",
      "execution_count": null,
      "metadata": {
        "colab": {
          "base_uri": "https://localhost:8080/"
        },
        "id": "kuPJCq-IM1Tv",
        "outputId": "a2bdbbde-2968-42da-d40e-c1ec9a571abb"
      },
      "outputs": [
        {
          "output_type": "stream",
          "name": "stderr",
          "text": [
            "/usr/local/lib/python3.10/dist-packages/sklearn/utils/validation.py:1143: DataConversionWarning: A column-vector y was passed when a 1d array was expected. Please change the shape of y to (n_samples, ), for example using ravel().\n",
            "  y = column_or_1d(y, warn=True)\n"
          ]
        },
        {
          "output_type": "stream",
          "name": "stdout",
          "text": [
            "[ 34200.  15500.  54200.  34200.  16500.  26200.  87000.  30900.  11500.\n",
            "  15900.  30900.  11900.  16500.  15600. 107100.  34200.  54200.  40100.\n",
            "  39300.  30900.  11500.  43600. 196700.  95500. 107100.  95500.  16500.\n",
            "  30900.  41000.  27500. 123000.  15600.  54200.  34200.  11900.  55005.\n",
            "  11500. 133300.  41300.  87000.  54200.  12500.  55005.  54200.  16500.\n",
            " 196700.  15000.  34850. 480000.  26200.  54200.  54200.  87000.  15600.\n",
            "  41000.  18900.  87000.  27500.  34200.  16500.  34850. 105200.  41000.\n",
            "  11500.  51500.  43600.]\n"
          ]
        }
      ],
      "source": [
        "from sklearn.naive_bayes import GaussianNB\n",
        "nb=GaussianNB()\n",
        "nb.fit(x_train_std,y_train)\n",
        "pred=nb.predict(x_test_std)\n",
        "print(pred)"
      ]
    },
    {
      "cell_type": "code",
      "execution_count": null,
      "metadata": {
        "colab": {
          "base_uri": "https://localhost:8080/"
        },
        "id": "qYEd8_MTVzpL",
        "outputId": "49973e7b-d254-4623-e6f8-9b8fc37f4f67"
      },
      "outputs": [
        {
          "output_type": "stream",
          "name": "stdout",
          "text": [
            "Accuracy : 27.27272727272727\n",
            "precision : 0.26136363636363635\n",
            "recall_score : 0.2727272727272727\n",
            "f1_score : 0.2636363636363636\n"
          ]
        },
        {
          "output_type": "stream",
          "name": "stderr",
          "text": [
            "/usr/local/lib/python3.10/dist-packages/sklearn/metrics/_classification.py:1344: UndefinedMetricWarning: Precision is ill-defined and being set to 0.0 in labels with no predicted samples. Use `zero_division` parameter to control this behavior.\n",
            "  _warn_prf(average, modifier, msg_start, len(result))\n",
            "/usr/local/lib/python3.10/dist-packages/sklearn/metrics/_classification.py:1344: UndefinedMetricWarning: Recall is ill-defined and being set to 0.0 in labels with no true samples. Use `zero_division` parameter to control this behavior.\n",
            "  _warn_prf(average, modifier, msg_start, len(result))\n"
          ]
        }
      ],
      "source": [
        "from sklearn.metrics import accuracy_score\n",
        "from sklearn.metrics import precision_score\n",
        "from sklearn.metrics import recall_score\n",
        "from sklearn.metrics import f1_score\n",
        "\n",
        "print('Accuracy : {}'.format(accuracy_score(y_test,pred)*100))\n",
        "print('precision : {}'.format(precision_score(y_test,pred,average=\"weighted\")))\n",
        "print('recall_score : {}'.format(recall_score(y_test,pred,average=\"weighted\")))\n",
        "print('f1_score : {}'.format(f1_score(y_test,pred,average='weighted')))\n",
        "l=[]"
      ]
    },
    {
      "cell_type": "code",
      "execution_count": null,
      "metadata": {
        "colab": {
          "base_uri": "https://localhost:8080/",
          "height": 449
        },
        "id": "KZT98K2HcyW4",
        "outputId": "28525800-77a9-4bcd-a8a1-61da3f1c0e05"
      },
      "outputs": [
        {
          "output_type": "display_data",
          "data": {
            "text/plain": [
              "<Figure size 640x480 with 1 Axes>"
            ],
            "image/png": "[encoded data removed]"
          },
          "metadata": {}
        }
      ],
      "source": [
        "import seaborn as sns\n",
        "l=[93.93939393939394,84.76831709958336,27.272727272727]\n",
        "l1=[\"knn\",\"LinearRegression\",\"NB\"]\n",
        "l3=[93.93939393939394,79.41176470588235,93.93939393939394,78.8235294117647]\n",
        "l2=[27.27272727272727,25,27.27272727272727,18.8]\n",
        "plt.bar(l1,l,linestyle=\"-\")\n",
        "plt.xlabel(\"Type of model\")\n",
        "plt.ylabel(\"Accuracy in %\")\n",
        "plt.show()"
      ]
    },
    {
      "cell_type": "code",
      "execution_count": null,
      "metadata": {
        "colab": {
          "base_uri": "https://localhost:8080/",
          "height": 430
        },
        "id": "sUphKd31dM0n",
        "outputId": "3c6936cc-a5b7-4ef7-e441-4bf229a820d1"
      },
      "outputs": [
        {
          "output_type": "display_data",
          "data": {
            "text/plain": [
              "<Figure size 640x480 with 1 Axes>"
            ],
            "image/png": "[encoded data removed]"
          },
          "metadata": {}
        }
      ],
      "source": [
        "x=[\"Accuracy\",\"Precision\",\"Recall\",\"f1-score\"]\n",
        "plt.plot(x,l3,label=\"knn\",linestyle=\"dashed\")\n",
        "plt.plot(x,l2,label=\"Naive_bayes\",linestyle=\":\")\n",
        "plt.legend()\n",
        "plt.show()"
      ]
    },
    {
      "cell_type": "code",
      "execution_count": null,
      "metadata": {
        "colab": {
          "base_uri": "https://localhost:8080/"
        },
        "id": "kwDghd6vgCML",
        "outputId": "38bcb100-9d7f-4136-97ad-7f04648607b9"
      },
      "outputs": [
        {
          "output_type": "stream",
          "name": "stdout",
          "text": [
            "Mean Absolute Error: 772.73\n",
            "Mean Squared Error: 18143939.39\n",
            "Root Mean Squared Error: 4259.57\n",
            "R-squared: 1.00\n"
          ]
        }
      ],
      "source": [
        "from sklearn.neighbors import KNeighborsRegressor\n",
        "\n",
        "knn = KNeighborsRegressor(n_neighbors=1, weights=\"distance\")\n",
        "knn.fit(x_train_std, y_train)\n",
        "z = knn.predict(x_test_std)\n",
        "\n",
        "from sklearn.metrics import mean_absolute_error, mean_squared_error, r2_score\n",
        "\n",
        "print('Mean Absolute Error: {:.2f}'.format(mean_absolute_error(y_test, z)))\n",
        "print('Mean Squared Error: {:.2f}'.format(mean_squared_error(y_test, z)))\n",
        "print('Root Mean Squared Error: {:.2f}'.format(np.sqrt(mean_squared_error(y_test, z))))\n",
        "print('R-squared: {:.2f}'.format(r2_score(y_test, z)))"
      ]
    },
    {
      "cell_type": "code",
      "execution_count": null,
      "metadata": {
        "colab": {
          "base_uri": "https://localhost:8080/"
        },
        "id": "XUVXa8jpgmCp",
        "outputId": "4fa67fd3-d463-422a-f99a-0d5fc36d782e"
      },
      "outputs": [
        {
          "output_type": "stream",
          "name": "stdout",
          "text": [
            "Mean Squared Error: 18143939.39\n",
            "Mean Absolute Error: 772.73\n",
            "R-squared: 1.00\n"
          ]
        },
        {
          "output_type": "stream",
          "name": "stderr",
          "text": [
            "/usr/local/lib/python3.10/dist-packages/sklearn/neighbors/_classification.py:215: DataConversionWarning: A column-vector y was passed when a 1d array was expected. Please change the shape of y to (n_samples,), for example using ravel().\n",
            "  return self._fit(X, y)\n"
          ]
        }
      ],
      "source": [
        "\n",
        "from sklearn.neighbors import KNeighborsClassifier\n",
        "\n",
        "knn = KNeighborsClassifier(n_neighbors=1, weights=\"distance\")\n",
        "knn.fit(x_train_std, y_train)\n",
        "z = knn.predict(x_test_std)\n",
        "\n",
        "from sklearn.metrics import mean_squared_error, mean_absolute_error, r2_score\n",
        "\n",
        "print('Mean Squared Error: {:.2f}'.format(mean_squared_error(y_test, z)))\n",
        "print('Mean Absolute Error: {:.2f}'.format(mean_absolute_error(y_test, z)))\n",
        "print('R-squared: {:.2f}'.format(r2_score(y_test, z)))"
      ]
    },
    {
      "cell_type": "code",
      "execution_count": null,
      "metadata": {
        "colab": {
          "base_uri": "https://localhost:8080/"
        },
        "id": "qrXz9U9kKTzS",
        "outputId": "158a0816-4e24-4b90-f602-fced7395883f"
      },
      "outputs": [
        {
          "output_type": "stream",
          "name": "stderr",
          "text": [
            "/usr/local/lib/python3.10/dist-packages/sklearn/utils/validation.py:1143: DataConversionWarning: A column-vector y was passed when a 1d array was expected. Please change the shape of y to (n_samples, ), for example using ravel().\n",
            "  y = column_or_1d(y, warn=True)\n"
          ]
        },
        {
          "output_type": "stream",
          "name": "stdout",
          "text": [
            "[ 32000.  20000.  50000.  32000.  30000.  25000.  32000.  32000.  25000.\n",
            "  20000.  32000.  25000.  30000.  25000.  70000.  32000. 450000.  43000.\n",
            "  43000.  18000.  25000.  43000. 105000. 105000.  70000. 105000.  30000.\n",
            "  32000.  41000.  43000. 105000.  25000. 450000.  32000.  25000. 450000.\n",
            "  25000. 105000.  48000.  32000.  50000.  15000. 450000.  50000.  30000.\n",
            " 105000.  15000.  43000. 450000.  25000. 450000. 450000.  32000.  25000.\n",
            "  41000.  15000.  32000.  43000.  32000.  30000.  43000. 105000.  41000.\n",
            "  25000.  32000.  35000.]\n"
          ]
        }
      ],
      "source": [
        "from sklearn.naive_bayes import BernoulliNB\n",
        "bnb=BernoulliNB()\n",
        "bnb.fit(x_train_std,y_train)\n",
        "predx=bnb.predict(x_test_std)\n",
        "print(predx)"
      ]
    },
    {
      "cell_type": "code",
      "execution_count": null,
      "metadata": {
        "colab": {
          "base_uri": "https://localhost:8080/"
        },
        "id": "rD3q18wZKtOG",
        "outputId": "153f9a7b-da55-41ce-b2ff-d01379a63813"
      },
      "outputs": [
        {
          "output_type": "stream",
          "name": "stdout",
          "text": [
            "Accuracy : 30.303030303030305\n",
            "precision : 0.30303030303030304\n",
            "recall_score : 0.30303030303030304\n",
            "f1_score : 0.23897907647907649\n"
          ]
        },
        {
          "output_type": "stream",
          "name": "stderr",
          "text": [
            "/usr/local/lib/python3.10/dist-packages/sklearn/metrics/_classification.py:1344: UndefinedMetricWarning: Recall is ill-defined and being set to 0.0 in labels with no true samples. Use `zero_division` parameter to control this behavior.\n",
            "  _warn_prf(average, modifier, msg_start, len(result))\n"
          ]
        }
      ],
      "source": [
        "from sklearn.metrics import accuracy_score\n",
        "from sklearn.metrics import precision_score\n",
        "from sklearn.metrics import recall_score\n",
        "from sklearn.metrics import f1_score\n",
        "\n",
        "print('Accuracy : {}'.format(accuracy_score(y_test,predx)*100))\n",
        "print('precision : {}'.format(precision_score(y_test,predx,average=\"micro\")))\n",
        "print('recall_score : {}'.format(recall_score(y_test,predx,average=\"weighted\")))\n",
        "print('f1_score : {}'.format(f1_score(y_test,predx,average='weighted')))\n",
        "l=[]"
      ]
    },
    {
      "cell_type": "code",
      "execution_count": null,
      "metadata": {
        "colab": {
          "base_uri": "https://localhost:8080/"
        },
        "id": "LddWOaQ-SGLd",
        "outputId": "101acb61-611f-4e09-b560-dce02dc00662"
      },
      "outputs": [
        {
          "output_type": "stream",
          "name": "stderr",
          "text": [
            "<ipython-input-24-8c86844532e6>:16: DataConversionWarning: A column-vector y was passed when a 1d array was expected. Please change the shape of y to (n_samples,), for example using ravel().\n",
            "  random_forest_classifier.fit(X_train, y_train)\n"
          ]
        },
        {
          "output_type": "stream",
          "name": "stdout",
          "text": [
            "Accuracy: 0.8142419601837673\n"
          ]
        },
        {
          "output_type": "stream",
          "name": "stderr",
          "text": [
            "/usr/local/lib/python3.10/dist-packages/sklearn/metrics/_classification.py:1344: UndefinedMetricWarning: Precision and F-score are ill-defined and being set to 0.0 in labels with no predicted samples. Use `zero_division` parameter to control this behavior.\n",
            "  _warn_prf(average, modifier, msg_start, len(result))\n",
            "/usr/local/lib/python3.10/dist-packages/sklearn/metrics/_classification.py:1344: UndefinedMetricWarning: Recall and F-score are ill-defined and being set to 0.0 in labels with no true samples. Use `zero_division` parameter to control this behavior.\n",
            "  _warn_prf(average, modifier, msg_start, len(result))\n",
            "/usr/local/lib/python3.10/dist-packages/sklearn/metrics/_classification.py:1344: UndefinedMetricWarning: Precision and F-score are ill-defined and being set to 0.0 in labels with no predicted samples. Use `zero_division` parameter to control this behavior.\n",
            "  _warn_prf(average, modifier, msg_start, len(result))\n",
            "/usr/local/lib/python3.10/dist-packages/sklearn/metrics/_classification.py:1344: UndefinedMetricWarning: Recall and F-score are ill-defined and being set to 0.0 in labels with no true samples. Use `zero_division` parameter to control this behavior.\n",
            "  _warn_prf(average, modifier, msg_start, len(result))\n",
            "/usr/local/lib/python3.10/dist-packages/sklearn/metrics/_classification.py:1344: UndefinedMetricWarning: Precision and F-score are ill-defined and being set to 0.0 in labels with no predicted samples. Use `zero_division` parameter to control this behavior.\n",
            "  _warn_prf(average, modifier, msg_start, len(result))\n",
            "/usr/local/lib/python3.10/dist-packages/sklearn/metrics/_classification.py:1344: UndefinedMetricWarning: Recall and F-score are ill-defined and being set to 0.0 in labels with no true samples. Use `zero_division` parameter to control this behavior.\n",
            "  _warn_prf(average, modifier, msg_start, len(result))\n"
          ]
        }
      ],
      "source": [
        "import numpy as np\n",
        "from sklearn.datasets import load_iris\n",
        "from sklearn.model_selection import train_test_split\n",
        "from sklearn.ensemble import RandomForestClassifier\n",
        "from sklearn.metrics import accuracy_score, classification_report\n",
        "\n",
        "x=df[['brand_new','kms_driven','age','power','owner_new']]\n",
        "y=df.drop(columns=['brand_new','kms_driven','age','power','owner_new'])\n",
        "\n",
        "X = np.array(x)\n",
        "\n",
        "X_train, X_test, y_train, y_test = train_test_split(X, y, test_size=0.2, random_state=42)\n",
        "\n",
        "random_forest_classifier = RandomForestClassifier(n_estimators=100, random_state=42)\n",
        "\n",
        "random_forest_classifier.fit(X_train, y_train)\n",
        "\n",
        "y_pred11 = random_forest_classifier.predict(X_test)\n",
        "\n",
        "accuracy = accuracy_score(y_test, y_pred11)\n",
        "report = classification_report(y_test, y_pred11)\n",
        "\n",
        "print(\"Accuracy:\", accuracy)\n",
        "#print(\"Classification Report:\\n\", report)\n"
      ]
    },
    {
      "cell_type": "code",
      "execution_count": null,
      "metadata": {
        "colab": {
          "base_uri": "https://localhost:8080/",
          "height": 449
        },
        "id": "e0PstgeEdTtq",
        "outputId": "4ea34d93-8d95-4174-b548-924cbec77577"
      },
      "outputs": [
        {
          "output_type": "display_data",
          "data": {
            "text/plain": [
              "<Figure size 640x480 with 1 Axes>"
            ],
            "image/png": "[encoded data removed]"
          },
          "metadata": {}
        }
      ],
      "source": [
        "import seaborn as sns\n",
        "l=[93.93939393939394,84.76831709958336,27.272727272727,81.42419601837673]\n",
        "l1=[\"knn\",\"LinearRegression\",\"NB\",'Random Forest']\n",
        "l3=[93.93939393939394,79.41176470588235,93.93939393939394,78.8235294117647]\n",
        "l2=[27.27272727272727,25,27.27272727272727,18.8]\n",
        "plt.bar(l1,l)\n",
        "plt.xlabel(\"Type of model\")\n",
        "plt.ylabel(\"Accuracy in %\")\n",
        "plt.show()"
      ]
    },
    {
      "cell_type": "code",
      "source": [
        "from sklearn.datasets import load_iris\n",
        "from sklearn.model_selection import train_test_split\n",
        "from sklearn.tree import DecisionTreeClassifier\n",
        "from sklearn.metrics import accuracy_score, classification_report\n",
        "\n",
        "X_train, X_test, y_train, y_test = train_test_split(X, y, test_size=0.1, random_state=42)\n",
        "\n",
        "decision_tree_classifier = DecisionTreeClassifier(random_state=42)\n",
        "\n",
        "decision_tree_classifier.fit(X_train, y_train)\n",
        "\n",
        "y_pred = decision_tree_classifier.predict(X_test)\n",
        "\n",
        "accuracy = accuracy_score(y_test, y_pred)\n",
        "report = classification_report(y_test, y_pred)\n",
        "\n",
        "print(\"Accuracy:\", accuracy)\n",
        "#print(\"Classification Report:\\n\", report)\n"
      ],
      "metadata": {
        "colab": {
          "base_uri": "https://localhost:8080/"
        },
        "id": "EZviFxGu7lUz",
        "outputId": "aaeb6d46-35cc-41a0-f42a-a412bc26ab6a"
      },
      "execution_count": null,
      "outputs": [
        {
          "output_type": "stream",
          "name": "stdout",
          "text": [
            "Accuracy: 0.8361408882082695\n"
          ]
        },
        {
          "output_type": "stream",
          "name": "stderr",
          "text": [
            "/usr/local/lib/python3.10/dist-packages/sklearn/metrics/_classification.py:1344: UndefinedMetricWarning: Precision and F-score are ill-defined and being set to 0.0 in labels with no predicted samples. Use `zero_division` parameter to control this behavior.\n",
            "  _warn_prf(average, modifier, msg_start, len(result))\n",
            "/usr/local/lib/python3.10/dist-packages/sklearn/metrics/_classification.py:1344: UndefinedMetricWarning: Recall and F-score are ill-defined and being set to 0.0 in labels with no true samples. Use `zero_division` parameter to control this behavior.\n",
            "  _warn_prf(average, modifier, msg_start, len(result))\n",
            "/usr/local/lib/python3.10/dist-packages/sklearn/metrics/_classification.py:1344: UndefinedMetricWarning: Precision and F-score are ill-defined and being set to 0.0 in labels with no predicted samples. Use `zero_division` parameter to control this behavior.\n",
            "  _warn_prf(average, modifier, msg_start, len(result))\n",
            "/usr/local/lib/python3.10/dist-packages/sklearn/metrics/_classification.py:1344: UndefinedMetricWarning: Recall and F-score are ill-defined and being set to 0.0 in labels with no true samples. Use `zero_division` parameter to control this behavior.\n",
            "  _warn_prf(average, modifier, msg_start, len(result))\n",
            "/usr/local/lib/python3.10/dist-packages/sklearn/metrics/_classification.py:1344: UndefinedMetricWarning: Precision and F-score are ill-defined and being set to 0.0 in labels with no predicted samples. Use `zero_division` parameter to control this behavior.\n",
            "  _warn_prf(average, modifier, msg_start, len(result))\n",
            "/usr/local/lib/python3.10/dist-packages/sklearn/metrics/_classification.py:1344: UndefinedMetricWarning: Recall and F-score are ill-defined and being set to 0.0 in labels with no true samples. Use `zero_division` parameter to control this behavior.\n",
            "  _warn_prf(average, modifier, msg_start, len(result))\n"
          ]
        }
      ]
    },
    {
      "cell_type": "code",
      "source": [
        "import seaborn as sns\n",
        "l=[93.93939393939394,84.76831709958336,27.272727272727,81.42419601837673,83.61408882082695]\n",
        "l1=[\"knn\",\"LinearRegression\",\"NB\",'Random Forest','Decision Tree']\n",
        "l3=[93.93939393939394,79.41176470588235,93.93939393939394,78.8235294117647]\n",
        "colors = ['blue', 'green', 'red','orange','purple']\n",
        "l2=[27.27272727272727,25,27.27272727272727,18.8]\n",
        "plt.bar(l1,l,color=colors)\n",
        "plt.xlabel(\"Type of model\")\n",
        "plt.ylabel(\"Accuracy in %\")\n",
        "plt.show()"
      ],
      "metadata": {
        "colab": {
          "base_uri": "https://localhost:8080/",
          "height": 449
        },
        "id": "I6WH9Wx29YTG",
        "outputId": "c8b5d6eb-0b02-4ffc-c498-7c8bc466c045"
      },
      "execution_count": null,
      "outputs": [
        {
          "output_type": "display_data",
          "data": {
            "text/plain": [
              "<Figure size 640x480 with 1 Axes>"
            ],
            "image/png": "[encoded data removed]"
          },
          "metadata": {}
        }
      ]
    },
    {
      "cell_type": "code",
      "source": [],
      "metadata": {
        "id": "aHOmdUVP0-R8"
      },
      "execution_count": null,
      "outputs": []
    }
  ],
  "metadata": {
    "colab": {
      "provenance": []
    },
    "kernelspec": {
      "display_name": "Python 3",
      "name": "python3"
    },
    "language_info": {
      "name": "python"
    }
  },
  "nbformat": 4,
  "nbformat_minor": 0
}